{
 "cells": [
  {
   "cell_type": "code",
   "execution_count": 3,
   "metadata": {},
   "outputs": [],
   "source": [
    "import seaborn as sns\n",
    "import numpy as np\n",
    "import matplotlib.pyplot as plt"
   ]
  },
  {
   "cell_type": "code",
   "execution_count": 2,
   "metadata": {},
   "outputs": [],
   "source": [
    "centroids = np.array([[7.337236492976036, -7.21975025869763], [-0.5659556422486972, -4.075711480190042], [4.319240317205936, -0.4701875937308413]])"
   ]
  },
  {
   "cell_type": "code",
   "execution_count": 10,
   "metadata": {},
   "outputs": [
    {
     "name": "stdout",
     "output_type": "stream",
     "text": [
      "7.337236492976036\n",
      "-7.21975025869763\n",
      "-0.5659556422486972\n",
      "-4.075711480190042\n",
      "4.319240317205936\n",
      "-0.4701875937308413\n"
     ]
    },
    {
     "data": {
      "image/png": "[encoded data removed]",
      "text/plain": [
       "<Figure size 432x288 with 1 Axes>"
      ]
     },
     "metadata": {
      "needs_background": "light"
     },
     "output_type": "display_data"
    }
   ],
   "source": [
    "fig, ax = plt.subplots(1,1)\n",
    "for i, _ in enumerate(centroids):\n",
    "    label = \"Centroid \" + str(i)    \n",
    "    print(centroids[i][0])\n",
    "    print(centroids[i][1])\n",
    "    plt.scatter(x=centroids[i][0], y=centroids[i][1], s=50)"
   ]
  },
  {
   "cell_type": "code",
   "execution_count": 13,
   "metadata": {},
   "outputs": [
    {
     "data": {
      "text/plain": [
       "(0.2980392156862745, 0.4470588235294118, 0.6901960784313725)"
      ]
     },
     "execution_count": 13,
     "metadata": {},
     "output_type": "execute_result"
    }
   ],
   "source": [
    "import itertools\n",
    "palette = itertools.cycle(sns.color_palette(\"deep\"))\n",
    "next(palette)"
   ]
  },
  {
   "cell_type": "code",
   "execution_count": 21,
   "metadata": {},
   "outputs": [
    {
     "data": {
      "text/plain": [
       "1.5"
      ]
     },
     "execution_count": 21,
     "metadata": {},
     "output_type": "execute_result"
    }
   ],
   "source": [
    "import re\n",
    "text = 'data_2000x2_3k_1.5std.png'\n",
    "std = float(re.search('k_(.*)std', text).group(1))\n",
    "std"
   ]
  }
 ],
 "metadata": {
  "interpreter": {
   "hash": "32124c0ae89ef0f7525133591154aa3cec85ce6337c4c56604767db76003f7a6"
  },
  "kernelspec": {
   "display_name": "Python 3.8.5 ('base')",
   "language": "python",
   "name": "python3"
  },
  "language_info": {
   "codemirror_mode": {
    "name": "ipython",
    "version": 3
   },
   "file_extension": ".py",
   "mimetype": "text/x-python",
   "name": "python",
   "nbconvert_exporter": "python",
   "pygments_lexer": "ipython3",
   "version": "3.8.5"
  },
  "orig_nbformat": 4
 },
 "nbformat": 4,
 "nbformat_minor": 2
}
